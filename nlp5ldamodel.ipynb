{
  "nbformat": 4,
  "nbformat_minor": 0,
  "metadata": {
    "colab": {
      "provenance": [],
      "authorship_tag": "ABX9TyPTF/wDHTIEmPXudr9aq5o5",
      "include_colab_link": true
    },
    "kernelspec": {
      "name": "python3",
      "display_name": "Python 3"
    },
    "language_info": {
      "name": "python"
    }
  },
  "cells": [
    {
      "cell_type": "markdown",
      "metadata": {
        "id": "view-in-github",
        "colab_type": "text"
      },
      "source": [
        "<a href=\"https://colab.research.google.com/github/HarshiniReddy-7/22MH1A4203/blob/main/nlp5ldamodel.ipynb\" target=\"_parent\"><img src=\"https://colab.research.google.com/assets/colab-badge.svg\" alt=\"Open In Colab\"/></a>"
      ]
    },
    {
      "cell_type": "code",
      "execution_count": 2,
      "metadata": {
        "colab": {
          "base_uri": "https://localhost:8080/"
        },
        "id": "vTOaLtW6y6rj",
        "outputId": "feb1260b-eae2-4c53-9ab9-1960d666193c"
      },
      "outputs": [
        {
          "output_type": "execute_result",
          "data": {
            "text/plain": [
              "[[(0, 1), (1, 1), (2, 1)],\n",
              " [(3, 1), (4, 1), (5, 1), (6, 1), (7, 1), (8, 1), (9, 1), (10, 1)],\n",
              " [(0, 1), (3, 1), (11, 1), (12, 1)]]"
            ]
          },
          "metadata": {},
          "execution_count": 2
        }
      ],
      "source": [
        "import gensim\n",
        "from gensim import corpora\n",
        "documents = [['apple', 'banana', 'fruits'], ['bought', 'bicycle', 'recently', 'less','two', 'years', 'buy', 'bike'],['colour', 'apple', 'bicycle', 'red']]\n",
        "mapping =corpora.Dictionary(documents)\n",
        "data = [mapping.doc2bow(word) for word in documents]\n",
        "data"
      ]
    },
    {
      "cell_type": "code",
      "source": [
        "# Train LDA model\n",
        "ldamodel = gensim.models.ldamodel.LdaModel(data, num_topics=2,\n",
        "id2word=mapping, passes=15)\n",
        "#print(\"The model has been trained. Let us see the topic distribution of words.\")\n",
        "# Show topics\n",
        "topics = ldamodel.show_topics()\n",
        "print(topics)"
      ],
      "metadata": {
        "colab": {
          "base_uri": "https://localhost:8080/"
        },
        "id": "Xeesdqy2z8GZ",
        "outputId": "4ed4ee8a-feab-4634-e340-b2629d00bc17"
      },
      "execution_count": 4,
      "outputs": [
        {
          "output_type": "stream",
          "name": "stdout",
          "text": [
            "[(0, '0.136*\"bicycle\" + 0.082*\"years\" + 0.082*\"two\" + 0.082*\"recently\" + 0.082*\"less\" + 0.082*\"bought\" + 0.082*\"bike\" + 0.082*\"buy\" + 0.081*\"colour\" + 0.081*\"red\"'), (1, '0.171*\"apple\" + 0.153*\"banana\" + 0.153*\"fruits\" + 0.054*\"red\" + 0.054*\"colour\" + 0.053*\"bicycle\" + 0.052*\"buy\" + 0.052*\"bike\" + 0.052*\"bought\" + 0.052*\"less\"')]\n"
          ]
        }
      ]
    },
    {
      "cell_type": "code",
      "source": [
        "import numpy as np\n",
        "result = np.array(ldamodel.get_document_topics(data[0]))\n",
        "print(result[(0,1), (1, 0)])"
      ],
      "metadata": {
        "colab": {
          "base_uri": "https://localhost:8080/"
        },
        "id": "qA6qBZuY1U9Y",
        "outputId": "ac764b26-0ee1-4284-b5ca-e1fb040cd6dc"
      },
      "execution_count": 7,
      "outputs": [
        {
          "output_type": "stream",
          "name": "stdout",
          "text": [
            "[0.13195878 1.        ]\n"
          ]
        }
      ]
    }
  ]
}