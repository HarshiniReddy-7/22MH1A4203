{
  "nbformat": 4,
  "nbformat_minor": 0,
  "metadata": {
    "colab": {
      "provenance": [],
      "authorship_tag": "ABX9TyNgBQLDyKm2j1t/sWs1YtK5",
      "include_colab_link": true
    },
    "kernelspec": {
      "name": "python3",
      "display_name": "Python 3"
    },
    "language_info": {
      "name": "python"
    }
  },
  "cells": [
    {
      "cell_type": "markdown",
      "metadata": {
        "id": "view-in-github",
        "colab_type": "text"
      },
      "source": [
        "<a href=\"https://colab.research.google.com/github/HarshiniReddy-7/22MH1A4203/blob/main/intnlp5.ipynb\" target=\"_parent\"><img src=\"https://colab.research.google.com/assets/colab-badge.svg\" alt=\"Open In Colab\"/></a>"
      ]
    },
    {
      "cell_type": "code",
      "execution_count": 2,
      "metadata": {
        "id": "nQvJB_fJd2wI"
      },
      "outputs": [],
      "source": [
        "import gensim\n",
        "from gensim import corpora"
      ]
    },
    {
      "cell_type": "code",
      "source": [
        "documents = [['apple', 'banana', 'fruits'], ['bought', 'bicycle', 'recently', 'less','two', 'years', 'buy', 'bike'],['colour', 'apple', 'bicycle', 'red']]\n",
        "mapping =corpora.Dictionary(documents)\n",
        "data = [mapping.doc2bow(word) for word in documents]\n"
      ],
      "metadata": {
        "id": "JRouRWPwenWs"
      },
      "execution_count": 3,
      "outputs": []
    },
    {
      "cell_type": "code",
      "source": [
        "data"
      ],
      "metadata": {
        "colab": {
          "base_uri": "https://localhost:8080/"
        },
        "id": "n0KNV49pesT7",
        "outputId": "31dcf13e-53c6-4d14-b733-34680a5c2c79"
      },
      "execution_count": 4,
      "outputs": [
        {
          "output_type": "execute_result",
          "data": {
            "text/plain": [
              "[[(0, 1), (1, 1), (2, 1)],\n",
              " [(3, 1), (4, 1), (5, 1), (6, 1), (7, 1), (8, 1), (9, 1), (10, 1)],\n",
              " [(0, 1), (3, 1), (11, 1), (12, 1)]]"
            ]
          },
          "metadata": {},
          "execution_count": 4
        }
      ]
    },
    {
      "cell_type": "code",
      "source": [
        "ldamodel = gensim.models.ldamodel.LdaModel(data, num_topics=2,\n",
        "id2word=mapping, passes=15)"
      ],
      "metadata": {
        "id": "V721TOWjeuZT"
      },
      "execution_count": 5,
      "outputs": []
    },
    {
      "cell_type": "code",
      "source": [
        "topics = ldamodel.show_topics()\n",
        "print(topics)"
      ],
      "metadata": {
        "colab": {
          "base_uri": "https://localhost:8080/"
        },
        "id": "Z8E_1sHTe03d",
        "outputId": "ab78c3a4-8294-4310-af79-ec2253637ccb"
      },
      "execution_count": 6,
      "outputs": [
        {
          "output_type": "stream",
          "name": "stdout",
          "text": [
            "[(0, '0.169*\"apple\" + 0.153*\"fruits\" + 0.153*\"banana\" + 0.054*\"colour\" + 0.054*\"red\" + 0.053*\"bicycle\" + 0.052*\"less\" + 0.052*\"bought\" + 0.052*\"buy\" + 0.052*\"years\"'), (1, '0.136*\"bicycle\" + 0.082*\"recently\" + 0.082*\"two\" + 0.082*\"bike\" + 0.082*\"years\" + 0.082*\"buy\" + 0.082*\"bought\" + 0.082*\"less\" + 0.081*\"red\" + 0.081*\"colour\"')]\n"
          ]
        }
      ]
    },
    {
      "cell_type": "code",
      "source": [
        "import numpy as np\n",
        "result = np.array(ldamodel.get_document_topics(data[0]))\n",
        "print(result[(0,1), (1, 0)])"
      ],
      "metadata": {
        "colab": {
          "base_uri": "https://localhost:8080/"
        },
        "id": "pA5pjflgfrY8",
        "outputId": "96ff875d-84db-4df4-dffc-a2db8ed238b5"
      },
      "execution_count": 7,
      "outputs": [
        {
          "output_type": "stream",
          "name": "stdout",
          "text": [
            "[0.86783421 1.        ]\n"
          ]
        }
      ]
    }
  ]
}