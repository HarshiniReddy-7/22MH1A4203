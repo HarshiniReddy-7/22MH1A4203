{
  "nbformat": 4,
  "nbformat_minor": 0,
  "metadata": {
    "colab": {
      "provenance": [],
      "authorship_tag": "ABX9TyP/vdETb4k2orDRaPoigcUB",
      "include_colab_link": true
    },
    "kernelspec": {
      "name": "python3",
      "display_name": "Python 3"
    },
    "language_info": {
      "name": "python"
    }
  },
  "cells": [
    {
      "cell_type": "markdown",
      "metadata": {
        "id": "view-in-github",
        "colab_type": "text"
      },
      "source": [
        "<a href=\"https://colab.research.google.com/github/HarshiniReddy-7/22MH1A4203/blob/main/EXP1.ipynb\" target=\"_parent\"><img src=\"https://colab.research.google.com/assets/colab-badge.svg\" alt=\"Open In Colab\"/></a>"
      ]
    },
    {
      "cell_type": "code",
      "execution_count": 9,
      "metadata": {
        "colab": {
          "base_uri": "https://localhost:8080/",
          "height": 865
        },
        "id": "ivU9zZQNnBlE",
        "outputId": "b68169ec-3624-4ec1-b9e2-5ee75c5667dd"
      },
      "outputs": [
        {
          "output_type": "stream",
          "name": "stdout",
          "text": [
            "independent var(X):      Age\n",
            "0   50.0\n",
            "1   36.0\n",
            "2   29.0\n",
            "3   42.0\n",
            "4   40.0\n",
            "..   ...\n",
            "95  58.0\n",
            "96  56.0\n",
            "97  43.0\n",
            "98  48.0\n",
            "99  56.0\n",
            "\n",
            "[100 rows x 1 columns]\n",
            "dependent var(Y): 0     45056.0\n",
            "1     72482.0\n",
            "2     87716.0\n",
            "3     48110.0\n",
            "4     53773.0\n",
            "       ...   \n",
            "95    57675.0\n",
            "96    92733.0\n",
            "97    84417.0\n",
            "98    63938.0\n",
            "99    63664.0\n",
            "Name: Salary, Length: 100, dtype: float64\n"
          ]
        },
        {
          "output_type": "error",
          "ename": "AttributeError",
          "evalue": "'Series' object has no attribute 'reshape'",
          "traceback": [
            "\u001b[0;31m---------------------------------------------------------------------------\u001b[0m",
            "\u001b[0;31mAttributeError\u001b[0m                            Traceback (most recent call last)",
            "\u001b[0;32m<ipython-input-9-7dc6cf57bccf>\u001b[0m in \u001b[0;36m<cell line: 12>\u001b[0;34m()\u001b[0m\n\u001b[1;32m     10\u001b[0m \u001b[0mimp\u001b[0m\u001b[0;34m=\u001b[0m\u001b[0mSimpleImputer\u001b[0m\u001b[0;34m(\u001b[0m\u001b[0mmissing_values\u001b[0m\u001b[0;34m=\u001b[0m\u001b[0mnp\u001b[0m\u001b[0;34m.\u001b[0m\u001b[0mnan\u001b[0m\u001b[0;34m,\u001b[0m\u001b[0mstrategy\u001b[0m\u001b[0;34m=\u001b[0m\u001b[0;34m\"mean\"\u001b[0m\u001b[0;34m)\u001b[0m\u001b[0;34m\u001b[0m\u001b[0;34m\u001b[0m\u001b[0m\n\u001b[1;32m     11\u001b[0m \u001b[0mx\u001b[0m\u001b[0;34m=\u001b[0m\u001b[0mimp\u001b[0m\u001b[0;34m.\u001b[0m\u001b[0mfit_transform\u001b[0m\u001b[0;34m(\u001b[0m\u001b[0mx\u001b[0m\u001b[0;34m)\u001b[0m\u001b[0;34m\u001b[0m\u001b[0;34m\u001b[0m\u001b[0m\n\u001b[0;32m---> 12\u001b[0;31m \u001b[0my\u001b[0m\u001b[0;34m=\u001b[0m\u001b[0my\u001b[0m\u001b[0;34m.\u001b[0m\u001b[0mreshape\u001b[0m\u001b[0;34m(\u001b[0m\u001b[0;34m-\u001b[0m\u001b[0;36m1\u001b[0m\u001b[0;34m,\u001b[0m\u001b[0;36m1\u001b[0m\u001b[0;34m)\u001b[0m\u001b[0;34m\u001b[0m\u001b[0;34m\u001b[0m\u001b[0m\n\u001b[0m\u001b[1;32m     13\u001b[0m \u001b[0my\u001b[0m\u001b[0;34m=\u001b[0m\u001b[0mimp\u001b[0m\u001b[0;34m.\u001b[0m\u001b[0mfit_transform\u001b[0m\u001b[0;34m(\u001b[0m\u001b[0my\u001b[0m\u001b[0;34m)\u001b[0m\u001b[0;34m\u001b[0m\u001b[0;34m\u001b[0m\u001b[0m\n\u001b[1;32m     14\u001b[0m \u001b[0my\u001b[0m\u001b[0;34m=\u001b[0m\u001b[0my\u001b[0m\u001b[0;34m.\u001b[0m\u001b[0mreshape\u001b[0m\u001b[0;34m(\u001b[0m\u001b[0;34m-\u001b[0m\u001b[0;36m1\u001b[0m\u001b[0;34m)\u001b[0m\u001b[0;34m\u001b[0m\u001b[0;34m\u001b[0m\u001b[0m\n",
            "\u001b[0;32m/usr/local/lib/python3.10/dist-packages/pandas/core/generic.py\u001b[0m in \u001b[0;36m__getattr__\u001b[0;34m(self, name)\u001b[0m\n\u001b[1;32m   5900\u001b[0m         ):\n\u001b[1;32m   5901\u001b[0m             \u001b[0;32mreturn\u001b[0m \u001b[0mself\u001b[0m\u001b[0;34m[\u001b[0m\u001b[0mname\u001b[0m\u001b[0;34m]\u001b[0m\u001b[0;34m\u001b[0m\u001b[0;34m\u001b[0m\u001b[0m\n\u001b[0;32m-> 5902\u001b[0;31m         \u001b[0;32mreturn\u001b[0m \u001b[0mobject\u001b[0m\u001b[0;34m.\u001b[0m\u001b[0m__getattribute__\u001b[0m\u001b[0;34m(\u001b[0m\u001b[0mself\u001b[0m\u001b[0;34m,\u001b[0m \u001b[0mname\u001b[0m\u001b[0;34m)\u001b[0m\u001b[0;34m\u001b[0m\u001b[0;34m\u001b[0m\u001b[0m\n\u001b[0m\u001b[1;32m   5903\u001b[0m \u001b[0;34m\u001b[0m\u001b[0m\n\u001b[1;32m   5904\u001b[0m     \u001b[0;32mdef\u001b[0m \u001b[0m__setattr__\u001b[0m\u001b[0;34m(\u001b[0m\u001b[0mself\u001b[0m\u001b[0;34m,\u001b[0m \u001b[0mname\u001b[0m\u001b[0;34m:\u001b[0m \u001b[0mstr\u001b[0m\u001b[0;34m,\u001b[0m \u001b[0mvalue\u001b[0m\u001b[0;34m)\u001b[0m \u001b[0;34m->\u001b[0m \u001b[0;32mNone\u001b[0m\u001b[0;34m:\u001b[0m\u001b[0;34m\u001b[0m\u001b[0;34m\u001b[0m\u001b[0m\n",
            "\u001b[0;31mAttributeError\u001b[0m: 'Series' object has no attribute 'reshape'"
          ]
        }
      ],
      "source": [
        "import pandas as pd\n",
        "import numpy as np\n",
        "dataset=pd.read_csv(\"/content/age_salary_dataset (1).csv\")\n",
        "dataset\n"
      ]
    },
    {
      "cell_type": "code",
      "source": [
        "x=dataset.iloc[:,:-1]\n",
        "y=dataset.iloc[:,-1]\n",
        "print('independent var(X):',x)\n",
        "print('dependent var(Y):',y)"
      ],
      "metadata": {
        "colab": {
          "base_uri": "https://localhost:8080/"
        },
        "id": "cGNMKc6Cs5kC",
        "outputId": "22bf4aa3-4cce-4509-9a38-00ad9ef6c965"
      },
      "execution_count": 14,
      "outputs": [
        {
          "output_type": "stream",
          "name": "stdout",
          "text": [
            "independent var(X):      Age\n",
            "0   50.0\n",
            "1   36.0\n",
            "2   29.0\n",
            "3   42.0\n",
            "4   40.0\n",
            "..   ...\n",
            "95  58.0\n",
            "96  56.0\n",
            "97  43.0\n",
            "98  48.0\n",
            "99  56.0\n",
            "\n",
            "[100 rows x 1 columns]\n",
            "dependent var(Y): 0     45056.0\n",
            "1     72482.0\n",
            "2     87716.0\n",
            "3     48110.0\n",
            "4     53773.0\n",
            "       ...   \n",
            "95    57675.0\n",
            "96    92733.0\n",
            "97    84417.0\n",
            "98    63938.0\n",
            "99    63664.0\n",
            "Name: Salary, Length: 100, dtype: float64\n"
          ]
        }
      ]
    },
    {
      "cell_type": "code",
      "source": [
        "from sklearn.impute import SimpleImputer\n",
        "import numpy as np\n",
        "\n",
        "# Impute missing values with the mean\n",
        "imp = SimpleImputer(missing_values=np.nan, strategy=\"mean\")\n",
        "\n",
        "# Transform x and y\n",
        "x = imp.fit_transform(x)\n",
        "y = y.reshape(-1, 1)\n",
        "y = imp.fit_transform(y)\n",
        "y = y.reshape(-1)\n",
        "\n",
        "# Print the transformed data\n",
        "print(x)\n",
        "print(y)"
      ],
      "metadata": {
        "colab": {
          "base_uri": "https://localhost:8080/"
        },
        "id": "Fhe59JiVrvhz",
        "outputId": "72ed830b-5710-4bae-a591-f51b4e775900"
      },
      "execution_count": 22,
      "outputs": [
        {
          "output_type": "stream",
          "name": "stdout",
          "text": [
            "[[50.        ]\n",
            " [36.        ]\n",
            " [29.        ]\n",
            " [42.        ]\n",
            " [40.        ]\n",
            " [44.        ]\n",
            " [32.        ]\n",
            " [32.        ]\n",
            " [45.        ]\n",
            " [57.        ]\n",
            " [45.        ]\n",
            " [24.        ]\n",
            " [43.        ]\n",
            " [23.        ]\n",
            " [45.        ]\n",
            " [51.        ]\n",
            " [59.        ]\n",
            " [23.        ]\n",
            " [42.        ]\n",
            " [54.        ]\n",
            " [33.        ]\n",
            " [43.        ]\n",
            " [39.88659794]\n",
            " [48.        ]\n",
            " [49.        ]\n",
            " [37.        ]\n",
            " [36.        ]\n",
            " [24.        ]\n",
            " [58.        ]\n",
            " [28.        ]\n",
            " [42.        ]\n",
            " [30.        ]\n",
            " [39.        ]\n",
            " [25.        ]\n",
            " [46.        ]\n",
            " [39.88659794]\n",
            " [30.        ]\n",
            " [47.        ]\n",
            " [23.        ]\n",
            " [41.        ]\n",
            " [49.        ]\n",
            " [28.        ]\n",
            " [29.        ]\n",
            " [39.88659794]\n",
            " [35.        ]\n",
            " [38.        ]\n",
            " [57.        ]\n",
            " [25.        ]\n",
            " [23.        ]\n",
            " [27.        ]\n",
            " [25.        ]\n",
            " [50.        ]\n",
            " [39.        ]\n",
            " [47.        ]\n",
            " [55.        ]\n",
            " [31.        ]\n",
            " [57.        ]\n",
            " [35.        ]\n",
            " [52.        ]\n",
            " [36.        ]\n",
            " [29.        ]\n",
            " [35.        ]\n",
            " [44.        ]\n",
            " [42.        ]\n",
            " [37.        ]\n",
            " [39.        ]\n",
            " [45.        ]\n",
            " [47.        ]\n",
            " [46.        ]\n",
            " [50.        ]\n",
            " [36.        ]\n",
            " [22.        ]\n",
            " [46.        ]\n",
            " [28.        ]\n",
            " [30.        ]\n",
            " [45.        ]\n",
            " [22.        ]\n",
            " [29.        ]\n",
            " [45.        ]\n",
            " [32.        ]\n",
            " [38.        ]\n",
            " [29.        ]\n",
            " [56.        ]\n",
            " [56.        ]\n",
            " [54.        ]\n",
            " [26.        ]\n",
            " [49.        ]\n",
            " [28.        ]\n",
            " [30.        ]\n",
            " [29.        ]\n",
            " [33.        ]\n",
            " [55.        ]\n",
            " [54.        ]\n",
            " [44.        ]\n",
            " [45.        ]\n",
            " [58.        ]\n",
            " [56.        ]\n",
            " [43.        ]\n",
            " [48.        ]\n",
            " [56.        ]]\n",
            "[45056.         72482.         87716.         48110.\n",
            " 53773.         67266.         92992.         57412.\n",
            " 96537.         73270.         46910.         85453.\n",
            " 65446.         96090.         93640.         40206.\n",
            " 72169.72164948 62361.         96873.         63419.\n",
            " 90636.         97010.         88702.         90015.\n",
            " 91942.         96560.         72169.72164948 94268.\n",
            " 85151.         62403.         58141.         54820.\n",
            " 72169.72164948 46374.         96044.         41678.\n",
            " 92394.         93788.         73827.         95820.\n",
            " 56198.         49914.         67890.         92309.\n",
            " 62299.         83585.         83689.         82557.\n",
            " 89080.         84020.         42693.         69467.\n",
            " 69723.         86699.         43627.         65939.\n",
            " 88925.         82941.         61834.         58047.\n",
            " 66105.         50230.         55707.         61976.\n",
            " 84262.         99581.         63776.         70080.\n",
            " 41306.         46776.         67251.         95016.\n",
            " 49474.         80294.         98053.         61959.\n",
            " 45530.         69320.         93565.         43748.\n",
            " 71968.         72562.         53545.         40663.\n",
            " 74766.         47994.         68021.         70303.\n",
            " 90647.         43304.         92915.         94384.\n",
            " 91005.         86576.         79353.         57675.\n",
            " 92733.         84417.         63938.         63664.        ]\n"
          ]
        }
      ]
    },
    {
      "cell_type": "code",
      "source": [
        "x_df=pd.DataFrame(x,columns=dataset.columns[:-1])\n",
        "y_df=pd.DataFrame(y,columns=[dataset.columns[-1]])\n",
        "combined_data=pd.concat([x_df,y_df],axis=1)\n",
        "print(\"combined_data:\")\n",
        "print(combined_data)"
      ],
      "metadata": {
        "colab": {
          "base_uri": "https://localhost:8080/"
        },
        "id": "YXcPpXGQu22s",
        "outputId": "27218ff4-2a8a-4ee8-98f0-1be3f95abb6c"
      },
      "execution_count": 26,
      "outputs": [
        {
          "output_type": "stream",
          "name": "stdout",
          "text": [
            "combined_data:\n",
            "     Age   Salary\n",
            "0   50.0  45056.0\n",
            "1   36.0  72482.0\n",
            "2   29.0  87716.0\n",
            "3   42.0  48110.0\n",
            "4   40.0  53773.0\n",
            "..   ...      ...\n",
            "95  58.0  57675.0\n",
            "96  56.0  92733.0\n",
            "97  43.0  84417.0\n",
            "98  48.0  63938.0\n",
            "99  56.0  63664.0\n",
            "\n",
            "[100 rows x 2 columns]\n"
          ]
        }
      ]
    },
    {
      "cell_type": "code",
      "source": [],
      "metadata": {
        "id": "dvE6wD6hwIKj"
      },
      "execution_count": null,
      "outputs": []
    },
    {
      "cell_type": "code",
      "source": [
        "combined_df=pd.DataFrame(combined_data,columns=list(dataset.columns))\n",
        "combined_df.to_excel(\"/content/combined_data.xlsx\",index=False)\n",
        "print(\"combined dataframe:\")\n",
        "print(combined_df.head())"
      ],
      "metadata": {
        "colab": {
          "base_uri": "https://localhost:8080/"
        },
        "id": "FoZ9TavnxGPx",
        "outputId": "d04ae0b9-49ec-4477-f4fc-224a601dfbeb"
      },
      "execution_count": 27,
      "outputs": [
        {
          "output_type": "stream",
          "name": "stdout",
          "text": [
            "combined dataframe:\n",
            "    Age   Salary\n",
            "0  50.0  45056.0\n",
            "1  36.0  72482.0\n",
            "2  29.0  87716.0\n",
            "3  42.0  48110.0\n",
            "4  40.0  53773.0\n"
          ]
        }
      ]
    }
  ]
}