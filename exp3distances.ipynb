{
  "nbformat": 4,
  "nbformat_minor": 0,
  "metadata": {
    "colab": {
      "provenance": [],
      "authorship_tag": "ABX9TyOq6OCUllkaH+RTM/SuUARv",
      "include_colab_link": true
    },
    "kernelspec": {
      "name": "python3",
      "display_name": "Python 3"
    },
    "language_info": {
      "name": "python"
    }
  },
  "cells": [
    {
      "cell_type": "markdown",
      "metadata": {
        "id": "view-in-github",
        "colab_type": "text"
      },
      "source": [
        "<a href=\"https://colab.research.google.com/github/HarshiniReddy-7/22MH1A4203/blob/main/exp3distances.ipynb\" target=\"_parent\"><img src=\"https://colab.research.google.com/assets/colab-badge.svg\" alt=\"Open In Colab\"/></a>"
      ]
    },
    {
      "cell_type": "code",
      "execution_count": 6,
      "metadata": {
        "colab": {
          "base_uri": "https://localhost:8080/"
        },
        "id": "nqqk9HipEQlu",
        "outputId": "a7c7f6b0-7e51-44b3-e2b2-94f7a0d60e1c"
      },
      "outputs": [
        {
          "output_type": "stream",
          "name": "stdout",
          "text": [
            "perason's correlation coeeficient:  0.904194430179465\n"
          ]
        }
      ],
      "source": [
        "import numpy as np\n",
        "def pearsons_correlation(x,y):\n",
        "  #caluculate means\n",
        "  mean_x=np.mean(x)\n",
        "  mean_y=np.mean(y)\n",
        "\n",
        "  #clauculate covariance and statndard deviations\n",
        "  covariance=np.sum((x-mean_x)*(y-mean_y))\n",
        "  std_dev_x=np.sqrt(np.sum((x-mean_x)**2))\n",
        "  std_dev_y=np.sqrt(np.sum((y-mean_y)**2))\n",
        "  #caluculate pearsons correelation coeificient\n",
        "  correlation=covariance/(std_dev_x*std_dev_y)\n",
        "  return correlation\n",
        "\n",
        "  #example\n",
        "x=np.array([1,2,3,4,5])\n",
        "y=np.array([3,5,4,6,8])\n",
        "print(\"perason's correlation coeeficient: \",pearsons_correlation(x,y))"
      ]
    },
    {
      "cell_type": "code",
      "source": [
        "from sklearn.metrics.pairwise import cosine_similarity\n",
        "#ex\n",
        "v1=np.array([1,2,3,4,5])\n",
        "v2=np.array([3,5,7,3,0])\n",
        "cosine_sim=cosine_similarity(v1.reshape(1,-1),v2.reshape(1,-1))\n",
        "print(\"cosine similarity: \",cosine_sim[0][0])"
      ],
      "metadata": {
        "colab": {
          "base_uri": "https://localhost:8080/"
        },
        "id": "x8gxV9U6HbJG",
        "outputId": "6c6ce62c-840c-43cb-dd6d-c70c6f58d7f0"
      },
      "execution_count": 7,
      "outputs": [
        {
          "output_type": "stream",
          "name": "stdout",
          "text": [
            "cosine similarity:  0.6466697906828633\n"
          ]
        }
      ]
    },
    {
      "cell_type": "code",
      "source": [
        "def jaccard_similarity(set1,set2):\n",
        "  intersection = len(set1.intersection(set2))\n",
        "  union=len(set1.union(set2))\n",
        "  return intersection/union\n",
        "set1=set([1,2,3,4,5])\n",
        "set2=set([4,6,7,2,3])\n",
        "print(\"jaccard similarity: \",jaccard_similarity(set1,set2))"
      ],
      "metadata": {
        "colab": {
          "base_uri": "https://localhost:8080/"
        },
        "id": "un9PgpEhIImu",
        "outputId": "a2a09dce-2caa-4cfa-9c98-c868dd2e8d03"
      },
      "execution_count": 11,
      "outputs": [
        {
          "output_type": "stream",
          "name": "stdout",
          "text": [
            "jaccard similarity:  0.42857142857142855\n"
          ]
        }
      ]
    },
    {
      "cell_type": "code",
      "source": [
        "def eculidean_distance(x,y):\n",
        "  return np.sqrt(np.sum((x-y)**2))\n",
        "  #ex\n",
        "p1=np.array([1,2,3])\n",
        "p2=np.array([3,3,4])\n",
        "print(\"euciden distance: \",eculidean_distance(p1,p2))"
      ],
      "metadata": {
        "colab": {
          "base_uri": "https://localhost:8080/"
        },
        "id": "sRTBkYfnJC9l",
        "outputId": "0d5cf0bf-8ae7-45de-aa4a-8b7ff0ee0f79"
      },
      "execution_count": 13,
      "outputs": [
        {
          "output_type": "stream",
          "name": "stdout",
          "text": [
            "euciden distance:  2.449489742783178\n"
          ]
        }
      ]
    },
    {
      "cell_type": "code",
      "source": [
        "def manhattan_distance(x,y):\n",
        "  return np.sum(np.abs(x-y))\n",
        "\n",
        "p1 = np.array([1,2,3])\n",
        "p2 = np.array([2,3,4])\n",
        "print(\"mahattan distance: \",manhattan_distance(p1,p2))"
      ],
      "metadata": {
        "colab": {
          "base_uri": "https://localhost:8080/"
        },
        "id": "fAPh0scfJrGN",
        "outputId": "7aaffa50-2293-4913-c213-76439809ab11"
      },
      "execution_count": 16,
      "outputs": [
        {
          "output_type": "stream",
          "name": "stdout",
          "text": [
            "mahattan distance:  3\n"
          ]
        }
      ]
    }
  ]
}